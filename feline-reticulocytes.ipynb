# install / update keras, tensorflow and theano 

#(pip install --upgrade --no-deps git+git://github.com/Theano/Theano.git)
#(pip install --upgrade keras)
#(pip install tensorflow)

from keras.models import Sequential
from keras.layers import Conv2D
from keras.layers import MaxPooling2D
from keras.layers import Flatten
from keras.layers import Dense
